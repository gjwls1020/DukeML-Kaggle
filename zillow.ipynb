{
 "cells": [
  {
   "cell_type": "code",
   "execution_count": 1,
   "metadata": {
    "collapsed": false
   },
   "outputs": [
    {
     "ename": "ImportError",
     "evalue": "No module named 'xgboost'",
     "output_type": "error",
     "traceback": [
      "\u001b[0;31m---------------------------------------------------------------------------\u001b[0m",
      "\u001b[0;31mImportError\u001b[0m                               Traceback (most recent call last)",
      "\u001b[0;32m<ipython-input-1-46acff647b44>\u001b[0m in \u001b[0;36m<module>\u001b[0;34m()\u001b[0m\n\u001b[1;32m      1\u001b[0m \u001b[0;32mimport\u001b[0m \u001b[0mpandas\u001b[0m \u001b[0;32mas\u001b[0m \u001b[0mpd\u001b[0m\u001b[0;34m\u001b[0m\u001b[0m\n\u001b[0;32m----> 2\u001b[0;31m \u001b[0;32mimport\u001b[0m \u001b[0mxgboost\u001b[0m\u001b[0;34m\u001b[0m\u001b[0m\n\u001b[0m",
      "\u001b[0;31mImportError\u001b[0m: No module named 'xgboost'"
     ]
    }
   ],
   "source": [
    "import pandas as pd\n",
    "import xgboost"
   ]
  },
  {
   "cell_type": "code",
   "execution_count": 2,
   "metadata": {
    "collapsed": true
   },
   "outputs": [],
   "source": [
    "def convert_hottub(input):\n",
    "    if input == 'true':\n",
    "        return 1\n",
    "    else:\n",
    "        return 0\n",
    "def convert_landuse(input):\n",
    "    return str(input)\n",
    "\n",
    "def convert_fire(input):\n",
    "    if input == 'true':\n",
    "        return 1\n",
    "    else:\n",
    "        return 0\n",
    "def convert_tax(input):\n",
    "    if input == 'Y':\n",
    "        return 1\n",
    "    else:\n",
    "        return 0\n",
    "dic = {'hashottuborspa': convert_hottub, 'propertycountylandusecode': convert_landuse, 'fireplaceflag': convert_fire, 'taxdelinquencyflag' : convert_tax, 'propertyzoningdesc': convert_landuse }"
   ]
  },
  {
   "cell_type": "code",
   "execution_count": 4,
   "metadata": {
    "collapsed": false
   },
   "outputs": [],
   "source": [
    "prop = pd.read_csv(\"properties_2016.csv\", converters= dic)\n",
    "prop['propertycountylandusecode'] = prop['propertycountylandusecode'].astype('category')\n",
    "prop['propertyzoningdesc'] = prop['propertyzoningdesc'].astype('category')\n",
    "train = pd.read_csv('train_2016_v2.csv')\n",
    "df_train = train.merge(prop, how='left', on='parcelid')"
   ]
  },
  {
   "cell_type": "code",
   "execution_count": 7,
   "metadata": {
    "collapsed": false
   },
   "outputs": [
    {
     "data": {
      "text/plain": [
       "90270    LARD1.5\n",
       "90271     GLR1RY\n",
       "90272     EMR3YY\n",
       "90273      INR4*\n",
       "90274      CARS*\n",
       "Name: propertyzoningdesc, dtype: object"
      ]
     },
     "execution_count": 7,
     "metadata": {},
     "output_type": "execute_result"
    }
   ],
   "source": [
    "df_train['propertyzoningdesc'].tail()\n"
   ]
  },
  {
   "cell_type": "code",
   "execution_count": null,
   "metadata": {
    "collapsed": true
   },
   "outputs": [],
   "source": []
  }
 ],
 "metadata": {
  "kernelspec": {
   "display_name": "Python [default]",
   "language": "python",
   "name": "python3"
  },
  "language_info": {
   "codemirror_mode": {
    "name": "ipython",
    "version": 3
   },
   "file_extension": ".py",
   "mimetype": "text/x-python",
   "name": "python",
   "nbconvert_exporter": "python",
   "pygments_lexer": "ipython3",
   "version": "3.5.2"
  }
 },
 "nbformat": 4,
 "nbformat_minor": 2
}
